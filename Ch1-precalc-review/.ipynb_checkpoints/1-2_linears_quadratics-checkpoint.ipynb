{
 "cells": [
  {
   "cell_type": "markdown",
   "id": "35dfdea3-ce97-400a-b819-6163db011b60",
   "metadata": {},
   "source": [
    "# Linear Functions:\n",
    "* ### Representing the equation of a nonvertical line:\n",
    "  * General equation of a line: $ax+by=c$\n",
    "  * Slope-intercept form: $y=mx+b$ (slope $m$ and y-intercept $b$)\n",
    "  * Point-slope form: $y-b=m(xa)$ (slope $m$ passes through $(a,b)$)\n",
    "  * Point-point form: The line through two points $P=(a_1,b_1)$ and $Q=(a_2,b_2)$ has slope $m=\\frac{b_2-b_1}{a_2-a_1}$ and equation $y-b_1=m(x-a_1)$\n",
    "* ### Slopes $m_1$ and $m_2$ are perpendicular iff $m_1 = -1/m_2$\n",
    "\n",
    "# Quadratic Functions:\n",
    " * ### Quadratic functions have the form $f(x)=ax^2+bx+c$\n",
    "   * The roots are $x=(-b\\pm\\sqrt{D})/(2a)$ where $D=b^2-4ac$ is the discriminant\n",
    "     * Written in full: $x = \\frac{(-b\\pm\\sqrt{b^2-4ac})}{2a}$\n",
    "   * Roots are real and distinct if $D>0$\n",
    "   * There is a double root if $D=0$\n",
    "   * There are no real roots if $D<0$\n",
    " * ### Completing the square consists of writing a quadratic polynomial as a multiple of a square plus a constant\n",
    "   * $ax^2+bx+c=a(x+\\frac{b}{2a})^2 + \\frac{4ac-b^2}{4a}$ "
   ]
  },
  {
   "cell_type": "code",
   "execution_count": 3,
   "id": "2d70dbe7-b8ed-48b2-b033-b999852b04bd",
   "metadata": {},
   "outputs": [],
   "source": [
    "import numpy as np"
   ]
  },
  {
   "cell_type": "code",
   "execution_count": 12,
   "id": "9eb6ae61-5f5c-4882-97af-60d0a5baf90b",
   "metadata": {},
   "outputs": [],
   "source": [
    "def getQuadraticRoots(a, b, c):\n",
    "    D = (b * b) - (4 * a * c)\n",
    "    if D < 0:\n",
    "        return\n",
    "    root1 = (-b + np.sqrt(D)) / (2*a)\n",
    "    if D == 0:\n",
    "        return root1\n",
    "    root2 = (-b - np.sqrt(D)) / (2*a)\n",
    "    return root1, root2"
   ]
  },
  {
   "cell_type": "code",
   "execution_count": 13,
   "id": "557bbcc6-3f42-43c7-93af-a93b9b63a7da",
   "metadata": {},
   "outputs": [
    {
     "name": "stdout",
     "output_type": "stream",
     "text": [
      "(1.0, 0.5)\n"
     ]
    }
   ],
   "source": [
    "print(getQuadraticRoots(2, -3, 1))"
   ]
  },
  {
   "cell_type": "code",
   "execution_count": null,
   "id": "eba05dea-d55b-4c46-98fa-261531b07013",
   "metadata": {},
   "outputs": [],
   "source": []
  }
 ],
 "metadata": {
  "kernelspec": {
   "display_name": "Python 3 (ipykernel)",
   "language": "python",
   "name": "python3"
  },
  "language_info": {
   "codemirror_mode": {
    "name": "ipython",
    "version": 3
   },
   "file_extension": ".py",
   "mimetype": "text/x-python",
   "name": "python",
   "nbconvert_exporter": "python",
   "pygments_lexer": "ipython3",
   "version": "3.8.0"
  }
 },
 "nbformat": 4,
 "nbformat_minor": 5
}
