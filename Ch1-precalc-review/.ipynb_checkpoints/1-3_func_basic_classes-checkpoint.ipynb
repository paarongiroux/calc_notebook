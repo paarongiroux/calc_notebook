{
 "cells": [
  {
   "cell_type": "markdown",
   "id": "513b581e-33c0-4a40-8438-4084a04b4e24",
   "metadata": {},
   "source": [
    "# Chapter 1.3 - The Basic Classes of Functions:\n",
    "### Polynomials\n",
    "* For any real number $m$, $f(x)=x^m$ is called the __power function__ with exponent $m$.\n",
    "* A Polynomial is a sum of multiples of power functions with whole-number exponents\n",
    "  * For example: $f(x)=x^5-5x^3+4x$, and $g(t)=7t^6+t^3-3t-1$\n",
    "  * Thus, $f(x)=x+x^{-1}$ is NOT a polymomial because it includes a power function with a negative exponent.\n",
    "* The general Polynomial in the variable x may be written: $P(x)=a_nx^n+a_{n-1}x^{n-1}+...+a_1x+a_0$\n",
    "    * $a_0,a_1...a_n$ are __coefficients__\n",
    "    * The __degree__ of $P(x)$ is $n$ (assuming $a_n\\neq0$)\n",
    "    * The coefficient $a_n$ is called the __leading coefficient__\n",
    "    * the domain of $P(x)$ is $R$\n",
    "\n",
    "### Rational Functions:\n",
    "* A __rational function__ is a _quotient_ of two polynomials:\n",
    "* $f(x) = \\frac{P(x)}{Q(x)}$ where $P(x)$ and $Q(x)$ are both polynomials\n",
    "* The domain of $f(x)$ is the set of numbers $x$ such that $Q(x)\\neq0$\n",
    "    * _ex: $f(x) = \\frac{1}{x^2}$ has the domain $\\{x : x\\neq0\\}$_\n",
    "    * _ex: $h(t)=\\frac{7t^6+t^3-3t-1}{t^2-1}$ has the domain $\\{x:x\\neq\\pm1\\}$_\n",
    "* Every polynomial is also a rational function with $Q(x)=1$\n",
    "\n",
    "### Algebraic Functions:\n",
    "* An __algebraic function__ is produced by taking sums, products and quotients of _roots_ of polynomials and rational functions\n",
    "  * _examples: $f(x)=\\sqrt{1+3x^2-x^4}$,&nbsp;&nbsp;&nbsp;&nbsp;$g(t)=(\\sqrt{t}-2)^{-1}$_\n",
    "* A number $x$ belongs to the domain of f if each term in the formula is defined and the result does not involve division by zero\n",
    "\n",
    "### Exponential Functions: \n",
    "* A function of the form $f(x)=b^x$ where $b>0$\n",
    "* _\\*logarithmic functions are the inverse of exponential functions_\n",
    "\n",
    "### Trigonometric functions:\n",
    "* Functions built from $sin x$ and $cos x$\n"
   ]
  },
  {
   "cell_type": "markdown",
   "id": "d77d6a11-2965-4751-a801-cc1026e7806f",
   "metadata": {},
   "source": [
    "# Constructing New Functions:\n",
    "### Given functions $f$ and $g$, we can construct new functions by forming the sum, difference, product and quotient functions:\n",
    "* $(f+g)(x) = f(x) + g(x)$\n",
    "*  $(f-g)(x) = f(x) - g(x)$\n",
    "*  $(fg)(x) = f(x)g(x)$\n",
    "*  $(\\frac{f}{g})(x)=\\frac{f(x)}{g(x)}$\n",
    "\n",
    "### We can also multiply functions by constants:\n",
    "* A function of the form $c_1f(x)+c_2g(x)$ is called a __linear combination__ of $f(x)$ and $g(x)$\n",
    "\n",
    "### Composition of functions:\n",
    "* The composition of $f$ and $g$ is the function $f \\circ g$ defined by $(f \\circ g)(x)=f(g(x))$"
   ]
  },
  {
   "cell_type": "code",
   "execution_count": null,
   "id": "5ccf498b-f4b0-4f2e-b95a-19d6ef84450a",
   "metadata": {},
   "outputs": [],
   "source": []
  }
 ],
 "metadata": {
  "kernelspec": {
   "display_name": "Python 3 (ipykernel)",
   "language": "python",
   "name": "python3"
  },
  "language_info": {
   "codemirror_mode": {
    "name": "ipython",
    "version": 3
   },
   "file_extension": ".py",
   "mimetype": "text/x-python",
   "name": "python",
   "nbconvert_exporter": "python",
   "pygments_lexer": "ipython3",
   "version": "3.8.0"
  }
 },
 "nbformat": 4,
 "nbformat_minor": 5
}
