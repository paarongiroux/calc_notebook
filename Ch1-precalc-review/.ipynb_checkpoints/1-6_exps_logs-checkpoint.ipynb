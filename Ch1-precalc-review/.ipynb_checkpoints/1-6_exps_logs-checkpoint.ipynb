{
 "cells": [
  {
   "cell_type": "markdown",
   "id": "dd0c6640-3c45-4cf9-83c3-f74379ef7285",
   "metadata": {},
   "source": [
    "# Chapter 1.6 Exponential and Logarithmic functions\n",
    "### An __exponential function__ is a function of the form $f(x) = b^x$ where $b > 0$ and $b \\neq 1$\n",
    "* _Exponential functions are positive_ $b^x > 0$ for all $x$\n",
    "* The _range_ of $f(x) = b^x$ is the set of all positive real numbers\n",
    "* $f(x) = b^x$ is increasing if $b>1$ and decreasing if $0<b<1$\n",
    "\n",
    "### Laws of exponents\n",
    "* _Exponent zero_: $b^0 = 1$\n",
    "* _Products_: $b^xb^y = b^{x+y}$\n",
    "* _Quotients_: $\\frac{b^x}{b^y} = b^{x-y}$\n",
    "* _Negative exponents_: $b^{-x} = \\frac{1}{b^x}$\n",
    "* _Power to a power_: $(b^x)^y = b^{xy}$\n",
    "* _Roots_: $b^{1/n} = \\sqrt[n]{b}$\n",
    "\n",
    "### The number $e$\n",
    "* $e \\approx 2.718$\n",
    "* In calculus, when referreing to _the_ exponential function, we are referring to $e^x$\n",
    "* Among all exponential functions, $b=e$ is the unique base for which the slope of the tangent line to the graph at $(0,1)$ is $1$\n",
    "* The number $e$ is the unique number such that the area of the region under the hyperbola $y = 1 / x$ for $1 \\leq x \\leq e$ is equal to $1$\n",
    "\n",
    "### Logarithms\n",
    "* Logarithmic functions are the inverses of exponential functions.\n",
    "* In other words, $log_bx$ is the number to which $b$ must be raised to produce $x$\n",
    "* The _domain_ of $log_bx$ is ${x:x>0}$\n",
    "* The _range_ of $log_bx$ is the set of real numbers __$R$__\n",
    "* The logarithm to the base $e$ is called the __natural logarithm__\n",
    "\n",
    "### Laws of logarithms\n",
    "* _Log of 1_: $log_b(1) = 0$\n",
    "* _Log of b_: $log_b(b) = 1$\n",
    "* _Products_: $log_b(xy) = log_bx + log_by$\n",
    "* _Quotients_: $log_b(\\frac{x}{y}) = log_bx - log_by$\n",
    "* _Reciprocals_: $log_b(\\frac{1}{x}) = -log_bx$\n",
    "* _Powers (any $n$)_: $log_b(x^n) = nlog_bx$\n",
    "* _Change of base_: $log_bx = \\frac{log_ax}{log_ab}$\n",
    "\n",
    "### Hyperbolic functions\n",
    "* $sinh x = \\frac{e^x-e^{-x}}{2}$\n",
    "* $cosh x = \\frac{e^x+e^{-x}}{2}$\n",
    "* _Identity_: $cosh^2x - sinh^2x = 1$\n",
    "* $sinh(x+y) = sinhx * coshy + coshx * sinhy$\n",
    "* $cosh(x+y) = coshx * coshy + sinhx * sinhy$\n"
   ]
  },
  {
   "cell_type": "code",
   "execution_count": null,
   "id": "dfd1e12c-aa9a-45df-b5f9-5a117e3b86c2",
   "metadata": {},
   "outputs": [],
   "source": []
  }
 ],
 "metadata": {
  "kernelspec": {
   "display_name": "Python 3 (ipykernel)",
   "language": "python",
   "name": "python3"
  },
  "language_info": {
   "codemirror_mode": {
    "name": "ipython",
    "version": 3
   },
   "file_extension": ".py",
   "mimetype": "text/x-python",
   "name": "python",
   "nbconvert_exporter": "python",
   "pygments_lexer": "ipython3",
   "version": "3.8.0"
  }
 },
 "nbformat": 4,
 "nbformat_minor": 5
}
